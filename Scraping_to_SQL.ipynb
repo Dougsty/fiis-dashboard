{
 "cells": [
  {
   "cell_type": "markdown",
   "metadata": {},
   "source": [
    "# Imports"
   ]
  },
  {
   "cell_type": "code",
   "execution_count": 1,
   "metadata": {},
   "outputs": [],
   "source": [
    "import pandas as pd\n",
    "from Models.sql_models import *\n",
    "from Models.scraping_models import *"
   ]
  },
  {
   "cell_type": "markdown",
   "metadata": {},
   "source": [
    "# Abrir Conexão SQL"
   ]
  },
  {
   "cell_type": "code",
   "execution_count": 2,
   "metadata": {},
   "outputs": [
    {
     "name": "stdout",
     "output_type": "stream",
     "text": [
      "Conexão estabelecida com sucesso.\n"
     ]
    }
   ],
   "source": [
    "servidor  = '{SQL Server}'\n",
    "usuario = 'Doug'\n",
    "database_sql = 'B3'\n",
    "sql_conn = SQL_Connection(servidor, usuario, database_sql)\n",
    "sql_conn.connect()\n",
    "cursor = sql_conn.connection.cursor()"
   ]
  },
  {
   "cell_type": "markdown",
   "metadata": {},
   "source": [
    "# Envio dos dados coletados(execuçao diária)"
   ]
  },
  {
   "cell_type": "markdown",
   "metadata": {},
   "source": [
    "## Fiis de dados"
   ]
  },
  {
   "cell_type": "markdown",
   "metadata": {},
   "source": [
    "### Coleta de dados"
   ]
  },
  {
   "cell_type": "code",
   "execution_count": 3,
   "metadata": {},
   "outputs": [],
   "source": [
    "# Local coletado dos FIIs\n",
    "fiis_data = 'https://www.clubefii.com.br/fundos_imobiliarios_ranking/2024#'\n",
    "\n",
    "# Formatação dos dados para o SQL \n",
    "df = scraping_request(fiis_data)\n",
    "\n",
    "df[['Valor da Ação', 'Variação', 'Data', 'Hora', 'Resto']] = df['COTAÇÃO ATUAL'].str.split(' ', n=4, expand=True) \n",
    "\n",
    "# Colunas indesejadas\n",
    "cols_to_exclude = ['VARIAÇÃO COTA  EM 2024', 'VARIAÇÃO COTA + PROVENTOS  EM 2024', 'Resto', 'COTAÇÃO ATUAL', 'UPSIDE/DOWNSIDE PARA ATINGIR VALOR PATRIMONIAL', 'FEED', 'P/VPA', 'Hora' , 'YIELD  3 MESES', 'YIELD  6 MESES']\n",
    "df = df.drop(columns= cols_to_exclude)\n",
    "\n",
    "# Ordenação desejada\n",
    "df = df[['CÓDIGO', 'NOME', 'Valor da Ação', 'Variação', 'Data', 'YIELD  1 MES', 'YIELD  12 MESES']]\n",
    "\n",
    "# Conversão de colunas para Float\n",
    "cols_to_transform = ['Valor da Ação', 'Variação', 'YIELD  1 MES', 'YIELD  12 MESES']\n",
    "\n",
    "df = float_transformer(df,cols_to_transform)\n",
    "\n",
    "# Formatação de colunas\n",
    "df['DI Mensal'] = (df['Valor da Ação'] * (df['YIELD  1 MES'] / 100)).astype(float)\n",
    "df['Data'] = pd.to_datetime(df['Data'], dayfirst=True)\n",
    "df['Data'] = df['Data'].dt.strftime('%d/%m/%Y')"
   ]
  },
  {
   "cell_type": "code",
   "execution_count": 4,
   "metadata": {},
   "outputs": [
    {
     "name": "stdout",
     "output_type": "stream",
     "text": [
      "<class 'pandas.core.frame.DataFrame'>\n",
      "RangeIndex: 104 entries, 0 to 103\n",
      "Data columns (total 8 columns):\n",
      " #   Column           Non-Null Count  Dtype  \n",
      "---  ------           --------------  -----  \n",
      " 0   CÓDIGO           104 non-null    object \n",
      " 1   NOME             104 non-null    object \n",
      " 2   Valor da Ação    104 non-null    float64\n",
      " 3   Variação         104 non-null    float64\n",
      " 4   Data             104 non-null    object \n",
      " 5   YIELD  1 MES     104 non-null    float64\n",
      " 6   YIELD  12 MESES  104 non-null    float64\n",
      " 7   DI Mensal        104 non-null    float64\n",
      "dtypes: float64(5), object(3)\n",
      "memory usage: 6.6+ KB\n"
     ]
    }
   ],
   "source": [
    "df.info()"
   ]
  },
  {
   "cell_type": "markdown",
   "metadata": {},
   "source": [
    "### Vizualização do dataframe"
   ]
  },
  {
   "cell_type": "code",
   "execution_count": 5,
   "metadata": {},
   "outputs": [
    {
     "name": "stdout",
     "output_type": "stream",
     "text": [
      "<class 'pandas.core.frame.DataFrame'>\n",
      "RangeIndex: 104 entries, 0 to 103\n",
      "Data columns (total 8 columns):\n",
      " #   Column           Non-Null Count  Dtype  \n",
      "---  ------           --------------  -----  \n",
      " 0   CÓDIGO           104 non-null    object \n",
      " 1   NOME             104 non-null    object \n",
      " 2   Valor da Ação    104 non-null    float64\n",
      " 3   Variação         104 non-null    float64\n",
      " 4   Data             104 non-null    object \n",
      " 5   YIELD  1 MES     104 non-null    float64\n",
      " 6   YIELD  12 MESES  104 non-null    float64\n",
      " 7   DI Mensal        104 non-null    float64\n",
      "dtypes: float64(5), object(3)\n",
      "memory usage: 6.6+ KB\n"
     ]
    }
   ],
   "source": [
    "df.info()"
   ]
  },
  {
   "cell_type": "code",
   "execution_count": 6,
   "metadata": {},
   "outputs": [
    {
     "data": {
      "text/html": [
       "<div>\n",
       "<style scoped>\n",
       "    .dataframe tbody tr th:only-of-type {\n",
       "        vertical-align: middle;\n",
       "    }\n",
       "\n",
       "    .dataframe tbody tr th {\n",
       "        vertical-align: top;\n",
       "    }\n",
       "\n",
       "    .dataframe thead th {\n",
       "        text-align: right;\n",
       "    }\n",
       "</style>\n",
       "<table border=\"1\" class=\"dataframe\">\n",
       "  <thead>\n",
       "    <tr style=\"text-align: right;\">\n",
       "      <th></th>\n",
       "      <th>CÓDIGO</th>\n",
       "      <th>NOME</th>\n",
       "      <th>Valor da Ação</th>\n",
       "      <th>Variação</th>\n",
       "      <th>Data</th>\n",
       "      <th>YIELD  1 MES</th>\n",
       "      <th>YIELD  12 MESES</th>\n",
       "      <th>DI Mensal</th>\n",
       "    </tr>\n",
       "  </thead>\n",
       "  <tbody>\n",
       "    <tr>\n",
       "      <th>0</th>\n",
       "      <td>HTMX11</td>\n",
       "      <td>Hotel Maxinvest</td>\n",
       "      <td>176.89</td>\n",
       "      <td>0.50</td>\n",
       "      <td>30/04/2024</td>\n",
       "      <td>1.24</td>\n",
       "      <td>16.02</td>\n",
       "      <td>2.193436</td>\n",
       "    </tr>\n",
       "    <tr>\n",
       "      <th>1</th>\n",
       "      <td>HGBS11</td>\n",
       "      <td>Hedge Brasil Shopping</td>\n",
       "      <td>222.69</td>\n",
       "      <td>0.33</td>\n",
       "      <td>30/04/2024</td>\n",
       "      <td>0.79</td>\n",
       "      <td>9.63</td>\n",
       "      <td>1.759251</td>\n",
       "    </tr>\n",
       "    <tr>\n",
       "      <th>2</th>\n",
       "      <td>HGPO11</td>\n",
       "      <td>CSHG Prime Offices</td>\n",
       "      <td>306.92</td>\n",
       "      <td>0.58</td>\n",
       "      <td>30/04/2024</td>\n",
       "      <td>0.49</td>\n",
       "      <td>6.00</td>\n",
       "      <td>1.503908</td>\n",
       "    </tr>\n",
       "    <tr>\n",
       "      <th>3</th>\n",
       "      <td>RCRB11</td>\n",
       "      <td>Rio Bravo Renda Corporativa</td>\n",
       "      <td>159.19</td>\n",
       "      <td>2.36</td>\n",
       "      <td>30/04/2024</td>\n",
       "      <td>0.58</td>\n",
       "      <td>6.19</td>\n",
       "      <td>0.923302</td>\n",
       "    </tr>\n",
       "    <tr>\n",
       "      <th>4</th>\n",
       "      <td>HGLG11</td>\n",
       "      <td>CSHG Logística</td>\n",
       "      <td>166.63</td>\n",
       "      <td>-0.06</td>\n",
       "      <td>30/04/2024</td>\n",
       "      <td>0.66</td>\n",
       "      <td>8.16</td>\n",
       "      <td>1.099758</td>\n",
       "    </tr>\n",
       "    <tr>\n",
       "      <th>...</th>\n",
       "      <td>...</td>\n",
       "      <td>...</td>\n",
       "      <td>...</td>\n",
       "      <td>...</td>\n",
       "      <td>...</td>\n",
       "      <td>...</td>\n",
       "      <td>...</td>\n",
       "      <td>...</td>\n",
       "    </tr>\n",
       "    <tr>\n",
       "      <th>99</th>\n",
       "      <td>BLMG11</td>\n",
       "      <td>BlueMacaw Logística</td>\n",
       "      <td>38.66</td>\n",
       "      <td>-0.18</td>\n",
       "      <td>30/04/2024</td>\n",
       "      <td>1.14</td>\n",
       "      <td>18.03</td>\n",
       "      <td>0.440724</td>\n",
       "    </tr>\n",
       "    <tr>\n",
       "      <th>100</th>\n",
       "      <td>VSLH11</td>\n",
       "      <td>Versalhes Recebíveis Imobiliários</td>\n",
       "      <td>3.50</td>\n",
       "      <td>-0.28</td>\n",
       "      <td>30/04/2024</td>\n",
       "      <td>1.14</td>\n",
       "      <td>12.00</td>\n",
       "      <td>0.039900</td>\n",
       "    </tr>\n",
       "    <tr>\n",
       "      <th>101</th>\n",
       "      <td>BROF11</td>\n",
       "      <td>BRPR Corporate Offices</td>\n",
       "      <td>55.53</td>\n",
       "      <td>-2.41</td>\n",
       "      <td>30/04/2024</td>\n",
       "      <td>0.97</td>\n",
       "      <td>12.26</td>\n",
       "      <td>0.538641</td>\n",
       "    </tr>\n",
       "    <tr>\n",
       "      <th>102</th>\n",
       "      <td>TORD11</td>\n",
       "      <td>Tordesilhas EI</td>\n",
       "      <td>1.83</td>\n",
       "      <td>0.00</td>\n",
       "      <td>30/04/2024</td>\n",
       "      <td>0.00</td>\n",
       "      <td>0.00</td>\n",
       "      <td>0.000000</td>\n",
       "    </tr>\n",
       "    <tr>\n",
       "      <th>103</th>\n",
       "      <td>XPPR11</td>\n",
       "      <td>XP Properties</td>\n",
       "      <td>20.52</td>\n",
       "      <td>0.00</td>\n",
       "      <td>30/04/2024</td>\n",
       "      <td>0.34</td>\n",
       "      <td>5.26</td>\n",
       "      <td>0.069768</td>\n",
       "    </tr>\n",
       "  </tbody>\n",
       "</table>\n",
       "<p>104 rows × 8 columns</p>\n",
       "</div>"
      ],
      "text/plain": [
       "     CÓDIGO                               NOME  Valor da Ação  Variação  \\\n",
       "0    HTMX11                    Hotel Maxinvest         176.89      0.50   \n",
       "1    HGBS11              Hedge Brasil Shopping         222.69      0.33   \n",
       "2    HGPO11                 CSHG Prime Offices         306.92      0.58   \n",
       "3    RCRB11        Rio Bravo Renda Corporativa         159.19      2.36   \n",
       "4    HGLG11                     CSHG Logística         166.63     -0.06   \n",
       "..      ...                                ...            ...       ...   \n",
       "99   BLMG11                BlueMacaw Logística          38.66     -0.18   \n",
       "100  VSLH11  Versalhes Recebíveis Imobiliários           3.50     -0.28   \n",
       "101  BROF11             BRPR Corporate Offices          55.53     -2.41   \n",
       "102  TORD11                     Tordesilhas EI           1.83      0.00   \n",
       "103  XPPR11                      XP Properties          20.52      0.00   \n",
       "\n",
       "           Data  YIELD  1 MES  YIELD  12 MESES  DI Mensal  \n",
       "0    30/04/2024          1.24            16.02   2.193436  \n",
       "1    30/04/2024          0.79             9.63   1.759251  \n",
       "2    30/04/2024          0.49             6.00   1.503908  \n",
       "3    30/04/2024          0.58             6.19   0.923302  \n",
       "4    30/04/2024          0.66             8.16   1.099758  \n",
       "..          ...           ...              ...        ...  \n",
       "99   30/04/2024          1.14            18.03   0.440724  \n",
       "100  30/04/2024          1.14            12.00   0.039900  \n",
       "101  30/04/2024          0.97            12.26   0.538641  \n",
       "102  30/04/2024          0.00             0.00   0.000000  \n",
       "103  30/04/2024          0.34             5.26   0.069768  \n",
       "\n",
       "[104 rows x 8 columns]"
      ]
     },
     "execution_count": 6,
     "metadata": {},
     "output_type": "execute_result"
    }
   ],
   "source": [
    "df"
   ]
  },
  {
   "cell_type": "markdown",
   "metadata": {},
   "source": [
    "### Envio SQL"
   ]
  },
  {
   "cell_type": "code",
   "execution_count": 13,
   "metadata": {},
   "outputs": [
    {
     "name": "stdout",
     "output_type": "stream",
     "text": [
      "Transação comitada com sucesso.\n"
     ]
    }
   ],
   "source": [
    "# Tabela que receberá os dados\n",
    "table_name = 'FIIS_Consol'\n",
    "\n",
    "if not SQLHandler(cursor).table_exists(table_name): # Confere se a tabela ja existe para criar ou não.\n",
    "    # Executar ação se a tabela não existir\n",
    "    SQLHandler(cursor).sql_format_table(df, table_name)\n",
    "    SQLHandler(cursor).sql_format_row(df, table_name)\n",
    "    sql_conn.commit()\n",
    "else:\n",
    "    # Executar ação se a tabela existir\n",
    "    SQLHandler(cursor).sql_format_row(df, table_name)\n",
    "    sql_conn.commit()"
   ]
  },
  {
   "cell_type": "markdown",
   "metadata": {},
   "source": [
    "## Fiis de Classificação"
   ]
  },
  {
   "cell_type": "markdown",
   "metadata": {},
   "source": [
    "### Coleta de dados"
   ]
  },
  {
   "cell_type": "code",
   "execution_count": null,
   "metadata": {},
   "outputs": [],
   "source": [
    "# Local coletado dos classificadores fees\n",
    "fiis_classification = 'https://www.clubefii.com.br/fundo_imobiliario_lista#'\n",
    "\n",
    "# Limpeza e estruturação dos dados (CLASSIFICADOR)\n",
    "df = scraping_request(fiis_classification)\n",
    "\n",
    "# Colunas indesejadas\n",
    "cols_to_exclude = ['VALOR COTA', 'RELATÓRIOS DE ANÁLISE', 'FEED', 'VALOR IPO','DATA IPO']\n",
    "df = df.drop(columns= cols_to_exclude)"
   ]
  },
  {
   "cell_type": "code",
   "execution_count": null,
   "metadata": {},
   "outputs": [],
   "source": [
    "df.info()"
   ]
  },
  {
   "cell_type": "markdown",
   "metadata": {},
   "source": [
    "### Vizualização do dataframe"
   ]
  },
  {
   "cell_type": "code",
   "execution_count": null,
   "metadata": {},
   "outputs": [],
   "source": [
    "df"
   ]
  },
  {
   "cell_type": "markdown",
   "metadata": {},
   "source": [
    "### Envio SQL"
   ]
  },
  {
   "cell_type": "code",
   "execution_count": null,
   "metadata": {},
   "outputs": [],
   "source": [
    "# Enviar a tabela para o SQL\n",
    "table_name = 'FIIS_Classification'\n",
    "\n",
    "if not SQLHandler(cursor).table_exists(table_name): # Confere se a tabela ja existe para criar ou não.\n",
    "    # Executar ação se a tabela não existir\n",
    "    SQLHandler(cursor).sql_format_table(df, table_name)\n",
    "    SQLHandler(cursor).sql_format_row(df, table_name)\n",
    "    sql_conn.commit()\n",
    "else:\n",
    "    pass"
   ]
  }
 ],
 "metadata": {
  "kernelspec": {
   "display_name": "Python 3",
   "language": "python",
   "name": "python3"
  },
  "language_info": {
   "codemirror_mode": {
    "name": "ipython",
    "version": 3
   },
   "file_extension": ".py",
   "mimetype": "text/x-python",
   "name": "python",
   "nbconvert_exporter": "python",
   "pygments_lexer": "ipython3",
   "version": "3.12.3"
  }
 },
 "nbformat": 4,
 "nbformat_minor": 2
}
