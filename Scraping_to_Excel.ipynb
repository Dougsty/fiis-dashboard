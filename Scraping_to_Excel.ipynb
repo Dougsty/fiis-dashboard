{
 "cells": [
  {
   "cell_type": "markdown",
   "metadata": {},
   "source": [
    "# Imports"
   ]
  },
  {
   "cell_type": "code",
   "execution_count": 3,
   "metadata": {},
   "outputs": [],
   "source": [
    "import pandas as pd\n",
    "from Models.scraping_models import*"
   ]
  },
  {
   "cell_type": "markdown",
   "metadata": {},
   "source": [
    "# Extração e Limpeza"
   ]
  },
  {
   "cell_type": "markdown",
   "metadata": {},
   "source": [
    "## DF de Cotação"
   ]
  },
  {
   "cell_type": "code",
   "execution_count": 4,
   "metadata": {},
   "outputs": [],
   "source": [
    "# Fonte dos dados\n",
    "fiis_data = 'https://www.clubefii.com.br/fundos_imobiliarios_ranking/2024#'\n",
    "df = scraping_request(fiis_data)\n",
    "\n",
    "# Estruturação dos dados\n",
    "df[['Valor da Ação', 'Variação', 'Data', 'Hora', 'Resto']] = df['COTAÇÃO ATUAL'].str.split(' ', n=4, expand=True)\n",
    "excl = ['VARIAÇÃO COTA  EM 2024', 'VARIAÇÃO COTA + PROVENTOS  EM 2024', 'Resto', 'COTAÇÃO ATUAL', 'UPSIDE/DOWNSIDE PARA ATINGIR VALOR PATRIMONIAL', 'FEED', 'Hora', 'YIELD  3 MESES', 'YIELD  6 MESES']\n",
    "\n",
    "# Colunas indesejadas\n",
    "df = df.drop(columns=excl)\n",
    "df = df[['CÓDIGO', 'NOME', 'Valor da Ação', 'Variação', 'P/VPA', 'Data', 'YIELD  1 MES', 'YIELD  12 MESES']]\n",
    "\n",
    "# Conversão de colunas para Float, para observar o percentual.\n",
    "float_columns = ['Valor da Ação', 'Variação', 'YIELD  1 MES', 'YIELD  12 MESES']\n",
    "df = float_transformer(df, float_columns)\n",
    "\n",
    "# Estruturação dos dados \n",
    "df['DI Mensal'] = (df['Valor da Ação'] * (df['YIELD  1 MES'] / 100)).astype(float)\n",
    "df['Data'] = pd.to_datetime(df['Data'], dayfirst=True)\n",
    "df['Data'] = df['Data'].dt.strftime('%d/%m/%Y')\n",
    "df = df.drop(columns='P/VPA')"
   ]
  },
  {
   "cell_type": "markdown",
   "metadata": {},
   "source": [
    "## DF Classificadora"
   ]
  },
  {
   "cell_type": "code",
   "execution_count": 5,
   "metadata": {},
   "outputs": [],
   "source": [
    "# Local coletado dos classificadores fees\n",
    "fiis_classification = 'https://www.clubefii.com.br/fundo_imobiliario_lista#'\n",
    "\n",
    "# Limpeza e estruturação dos dados (CLASSIFICADOR)\n",
    "df_classification = scraping_request(fiis_classification)\n",
    "\n",
    "# Colunas indesejadas\n",
    "cols_to_exclude = ['VALOR COTA', 'RELATÓRIOS DE ANÁLISE', 'FEED', 'VALOR IPO','DATA IPO', 'NOME']\n",
    "df_classification  = df_classification.drop(columns= cols_to_exclude)"
   ]
  },
  {
   "cell_type": "markdown",
   "metadata": {},
   "source": [
    "## DF Consolidado"
   ]
  },
  {
   "cell_type": "code",
   "execution_count": 6,
   "metadata": {},
   "outputs": [],
   "source": [
    "hist_name = 'Tables/FIIS_Consol.xlsx'\n",
    "hist = pd.read_excel(hist_name)"
   ]
  },
  {
   "cell_type": "code",
   "execution_count": 7,
   "metadata": {},
   "outputs": [],
   "source": [
    "# Classificando e concatenando os novos dados + Hist\n",
    "consol = pd.merge(df_classification, df, on = 'CÓDIGO')\n",
    "consol = pd.concat([hist, consol], ignore_index=False).drop_duplicates()"
   ]
  },
  {
   "cell_type": "code",
   "execution_count": 8,
   "metadata": {},
   "outputs": [],
   "source": [
    "# Salvando o historico\n",
    "consol.to_excel(hist_name, index= False)"
   ]
  }
 ],
 "metadata": {
  "kernelspec": {
   "display_name": "Python 3",
   "language": "python",
   "name": "python3"
  },
  "language_info": {
   "codemirror_mode": {
    "name": "ipython",
    "version": 3
   },
   "file_extension": ".py",
   "mimetype": "text/x-python",
   "name": "python",
   "nbconvert_exporter": "python",
   "pygments_lexer": "ipython3",
   "version": "3.12.3"
  }
 },
 "nbformat": 4,
 "nbformat_minor": 2
}
